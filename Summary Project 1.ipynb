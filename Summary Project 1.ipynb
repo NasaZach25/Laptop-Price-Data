{
 "cells": [
  {
   "cell_type": "code",
   "execution_count": null,
   "metadata": {},
   "outputs": [],
   "source": [
    "#The dataset I chose is about laptops and their prices. These are the data in the columns:\n",
    "\n",
    "#Laptop: The product name and specifications.\n",
    "#Status: The status of the laptop. \n",
    "#Brand: The brand of the laptop \n",
    "#Model: The model of the laptop.\n",
    "#CPU: The processor information.\n",
    "#RAM: The amount of RAM in GB.\n",
    "#Storage: The storage in GB.\n",
    "#Storage type: The type of storage.\n",
    "#GPU: The graphics processing unit model.\n",
    "#Screen: The screen size in inches.\n",
    "#Touch: If the laptop has a touchscreen or not.\n",
    "\n",
    "#Final Price: The final price of the laptop.\n",
    "#Dataset Source: Laptop Price Dataset\n",
    "\n",
    "#Main Inquiry:\n",
    "#What are the main factors that affect laptop pricing?\n",
    "\n",
    "#Sub-questions:\n",
    "#Is there a significant price difference between laptops with different CPU models?\n",
    "#Does having a dedicated GPU impact laptop prices significantly compared to laptops without GPUs?\n",
    "#How does the amount of RAM impact laptop prices?\n",
    "\n",
    "#Laptop Dataset Cleaning:\n",
    "#Missing values: Storage, GPU, and Screen values.\n",
    "\n",
    "#How I handled these:\n",
    "#Storage type: Showing many missing values, I marked them as \"Unknown.\"\n",
    "#GPU: A lot shows missing values, most likely meaning they don’t have a GPU. So, I replace these with \"No GPU.\"\n",
    "#Screen: Filled in the missing screens with “median screen size.”\n",
    "    \n",
    "#There were no duplicate rows, and all columns had correct categorical and numeric variables.\n",
    "\n",
    "#Interpretation:\n",
    "#Is there a significant price difference between laptops with different CPU models? The High-end CPUs such as the Intel Core i9 and Apple M1/M2 Pro compare to relatively higher prices than lower-tier CPUs such as the Intel Core i3 or i5.\n",
    "\n",
    "#Does having a dedicated GPU impact laptop prices significantly compared to laptops without GPUs? Laptops with dedicated GPUs, such as gaming laptops, are usually more expensive, almost doubling the cost of laptops without a GPU.\n",
    "\n",
    "#How does the amount of RAM influence laptop prices? Laptops with 16 GB of RAM are much more expensive than those with lower RAM, like 4 GB or 8 GB. Interestingly, laptops with 12 GB of RAM have a slightly lower average price than those with 8 GB.\n",
    "\n",
    "#Summary:\n",
    "#From what I gather from everything, with CPU’s higher-end CPUs like the Intel Core i9 and AMD Radeon 9 have significantly increased laptop prices compared to lower-tier models like the Intel Core i3 or i5. With GPUs laptops with GPUs are twice as expensive as laptops without them. Lastly, with regard to RAM, laptops with around 16 GB of RAM are way more expensive compared to 4 GB and 8 GB laptops.\n",
    "\n",
    "#Further Exploration:\n",
    "#I could have explored the impact of storage type and capacity on pricing. Or how multiple factors interact to affect prices.\n"
   ]
  },
  {
   "cell_type": "code",
   "execution_count": null,
   "metadata": {},
   "outputs": [],
   "source": []
  }
 ],
 "metadata": {
  "language_info": {
   "name": "python"
  }
 },
 "nbformat": 4,
 "nbformat_minor": 2
}
